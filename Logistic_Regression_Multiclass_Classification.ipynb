{
  "nbformat": 4,
  "nbformat_minor": 0,
  "metadata": {
    "colab": {
      "provenance": [],
      "authorship_tag": "ABX9TyOa02Tmx9J2ZsAnkHqWtzuo",
      "include_colab_link": true
    },
    "kernelspec": {
      "name": "python3",
      "display_name": "Python 3"
    },
    "language_info": {
      "name": "python"
    }
  },
  "cells": [
    {
      "cell_type": "markdown",
      "metadata": {
        "id": "view-in-github",
        "colab_type": "text"
      },
      "source": [
        "<a href=\"https://colab.research.google.com/github/mohdfaazkhan/Machine-Learning/blob/main/Logistic_Regression_Multiclass_Classification.ipynb\" target=\"_parent\"><img src=\"https://colab.research.google.com/assets/colab-badge.svg\" alt=\"Open In Colab\"/></a>"
      ]
    },
    {
      "cell_type": "code",
      "execution_count": 13,
      "metadata": {
        "id": "OhROf4ETQwqN"
      },
      "outputs": [],
      "source": [
        "from sklearn.datasets import load_digits\n",
        "%matplotlib inline\n",
        "import matplotlib.pyplot as plt\n",
        "digits = load_digits()"
      ]
    },
    {
      "cell_type": "code",
      "source": [
        "digits.images[0]"
      ],
      "metadata": {
        "colab": {
          "base_uri": "https://localhost:8080/"
        },
        "id": "x9Tdbt-7RPoW",
        "outputId": "ed236314-1b0e-45d9-a744-9155a36aaa01"
      },
      "execution_count": 14,
      "outputs": [
        {
          "output_type": "execute_result",
          "data": {
            "text/plain": [
              "array([[ 0.,  0.,  5., 13.,  9.,  1.,  0.,  0.],\n",
              "       [ 0.,  0., 13., 15., 10., 15.,  5.,  0.],\n",
              "       [ 0.,  3., 15.,  2.,  0., 11.,  8.,  0.],\n",
              "       [ 0.,  4., 12.,  0.,  0.,  8.,  8.,  0.],\n",
              "       [ 0.,  5.,  8.,  0.,  0.,  9.,  8.,  0.],\n",
              "       [ 0.,  4., 11.,  0.,  1., 12.,  7.,  0.],\n",
              "       [ 0.,  2., 14.,  5., 10., 12.,  0.,  0.],\n",
              "       [ 0.,  0.,  6., 13., 10.,  0.,  0.,  0.]])"
            ]
          },
          "metadata": {},
          "execution_count": 14
        }
      ]
    },
    {
      "cell_type": "code",
      "source": [
        "plt.matshow(digits.images[0])"
      ],
      "metadata": {
        "colab": {
          "base_uri": "https://localhost:8080/",
          "height": 292
        },
        "id": "M4EKuVrtRbxO",
        "outputId": "3f8b4672-b6d3-43fc-e57b-f4c4471de75f"
      },
      "execution_count": 15,
      "outputs": [
        {
          "output_type": "execute_result",
          "data": {
            "text/plain": [
              "<matplotlib.image.AxesImage at 0x7fe6b4a7fdc0>"
            ]
          },
          "metadata": {},
          "execution_count": 15
        },
        {
          "output_type": "display_data",
          "data": {
            "text/plain": [
              "<Figure size 288x288 with 1 Axes>"
            ],
            "image/png": "[encoded data removed]"
          },
          "metadata": {
            "needs_background": "light"
          }
        }
      ]
    },
    {
      "cell_type": "code",
      "source": [
        "plt.gray() \n",
        "for i in range(5):\n",
        "    plt.matshow(digits.images[i]) "
      ],
      "metadata": {
        "colab": {
          "base_uri": "https://localhost:8080/",
          "height": 1000
        },
        "id": "5Nw2Z2bdRHBY",
        "outputId": "6e5f928b-334f-452d-8745-05e5771cfb62"
      },
      "execution_count": 16,
      "outputs": [
        {
          "output_type": "display_data",
          "data": {
            "text/plain": [
              "<Figure size 432x288 with 0 Axes>"
            ]
          },
          "metadata": {}
        },
        {
          "output_type": "display_data",
          "data": {
            "text/plain": [
              "<Figure size 288x288 with 1 Axes>"
            ],
            "image/png": "[encoded data removed]"
          },
          "metadata": {
            "needs_background": "light"
          }
        },
        {
          "output_type": "display_data",
          "data": {
            "text/plain": [
              "<Figure size 288x288 with 1 Axes>"
            ],
            "image/png": "[encoded data removed]"
          },
          "metadata": {
            "needs_background": "light"
          }
        },
        {
          "output_type": "display_data",
          "data": {
            "text/plain": [
              "<Figure size 288x288 with 1 Axes>"
            ],
            "image/png": "[encoded data removed]"
          },
          "metadata": {
            "needs_background": "light"
          }
        },
        {
          "output_type": "display_data",
          "data": {
            "text/plain": [
              "<Figure size 288x288 with 1 Axes>"
            ],
            "image/png": "[encoded data removed]"
          },
          "metadata": {
            "needs_background": "light"
          }
        },
        {
          "output_type": "display_data",
          "data": {
            "text/plain": [
              "<Figure size 288x288 with 1 Axes>"
            ],
            "image/png": "[encoded data removed]"
          },
          "metadata": {
            "needs_background": "light"
          }
        }
      ]
    },
    {
      "cell_type": "code",
      "source": [
        "dir(digits)"
      ],
      "metadata": {
        "colab": {
          "base_uri": "https://localhost:8080/"
        },
        "id": "L3rKdtL0RHEy",
        "outputId": "8a28d72d-345a-42d6-a9dd-cf66be0530ab"
      },
      "execution_count": 41,
      "outputs": [
        {
          "output_type": "execute_result",
          "data": {
            "text/plain": [
              "['DESCR', 'data', 'feature_names', 'frame', 'images', 'target', 'target_names']"
            ]
          },
          "metadata": {},
          "execution_count": 41
        }
      ]
    },
    {
      "cell_type": "code",
      "source": [
        "digits.target[:5]"
      ],
      "metadata": {
        "colab": {
          "base_uri": "https://localhost:8080/"
        },
        "id": "5ePv-KqJWLD_",
        "outputId": "8c0812fe-fed5-446b-e25c-44a39392ae88"
      },
      "execution_count": 42,
      "outputs": [
        {
          "output_type": "execute_result",
          "data": {
            "text/plain": [
              "array([0, 1, 2, 3, 4])"
            ]
          },
          "metadata": {},
          "execution_count": 42
        }
      ]
    },
    {
      "cell_type": "code",
      "source": [
        "digits.data[0]"
      ],
      "metadata": {
        "colab": {
          "base_uri": "https://localhost:8080/"
        },
        "id": "oKBLnK9cSfhB",
        "outputId": "ca065783-fb27-4208-de60-9a0d207d82cc"
      },
      "execution_count": 43,
      "outputs": [
        {
          "output_type": "execute_result",
          "data": {
            "text/plain": [
              "array([ 0.,  0.,  5., 13.,  9.,  1.,  0.,  0.,  0.,  0., 13., 15., 10.,\n",
              "       15.,  5.,  0.,  0.,  3., 15.,  2.,  0., 11.,  8.,  0.,  0.,  4.,\n",
              "       12.,  0.,  0.,  8.,  8.,  0.,  0.,  5.,  8.,  0.,  0.,  9.,  8.,\n",
              "        0.,  0.,  4., 11.,  0.,  1., 12.,  7.,  0.,  0.,  2., 14.,  5.,\n",
              "       10., 12.,  0.,  0.,  0.,  0.,  6., 13., 10.,  0.,  0.,  0.])"
            ]
          },
          "metadata": {},
          "execution_count": 43
        }
      ]
    },
    {
      "cell_type": "markdown",
      "source": [
        "****Create and train logistic regression model****"
      ],
      "metadata": {
        "id": "DAGm2CQCSj34"
      }
    },
    {
      "cell_type": "code",
      "source": [
        "from sklearn.linear_model import LogisticRegression\n",
        "model = LogisticRegression()"
      ],
      "metadata": {
        "id": "A2Ko8jT6SpD3"
      },
      "execution_count": 19,
      "outputs": []
    },
    {
      "cell_type": "code",
      "source": [
        "from sklearn.model_selection import train_test_split"
      ],
      "metadata": {
        "id": "-DaMhs4fSfkY"
      },
      "execution_count": 20,
      "outputs": []
    },
    {
      "cell_type": "code",
      "source": [
        "X_train, X_test, y_train, y_test = train_test_split(digits.data,digits.target, test_size=0.2)"
      ],
      "metadata": {
        "id": "_XF_zVY4SuhA"
      },
      "execution_count": 21,
      "outputs": []
    },
    {
      "cell_type": "code",
      "source": [
        "len(X_test)"
      ],
      "metadata": {
        "colab": {
          "base_uri": "https://localhost:8080/"
        },
        "id": "gC1LYhwPUR_a",
        "outputId": "01d0533c-0b6d-479c-9f4b-107a998a08df"
      },
      "execution_count": 34,
      "outputs": [
        {
          "output_type": "execute_result",
          "data": {
            "text/plain": [
              "360"
            ]
          },
          "metadata": {},
          "execution_count": 34
        }
      ]
    },
    {
      "cell_type": "code",
      "source": [
        "len(X_train)"
      ],
      "metadata": {
        "colab": {
          "base_uri": "https://localhost:8080/"
        },
        "id": "69wr1ONVUVQZ",
        "outputId": "f5d941c5-4fd2-49c0-9ee7-9c84dfa2717a"
      },
      "execution_count": 35,
      "outputs": [
        {
          "output_type": "execute_result",
          "data": {
            "text/plain": [
              "1437"
            ]
          },
          "metadata": {},
          "execution_count": 35
        }
      ]
    },
    {
      "cell_type": "code",
      "source": [
        "len(digits.data)"
      ],
      "metadata": {
        "colab": {
          "base_uri": "https://localhost:8080/"
        },
        "id": "mXzYDGWUUiCZ",
        "outputId": "c85e0ecc-82bb-4aec-d6ba-dc0e33363353"
      },
      "execution_count": 36,
      "outputs": [
        {
          "output_type": "execute_result",
          "data": {
            "text/plain": [
              "1797"
            ]
          },
          "metadata": {},
          "execution_count": 36
        }
      ]
    },
    {
      "cell_type": "code",
      "source": [
        "model.fit(X_train, y_train)"
      ],
      "metadata": {
        "colab": {
          "base_uri": "https://localhost:8080/"
        },
        "id": "7rKw-L4tSxE6",
        "outputId": "45cca70e-993d-499f-f4e6-5546dd672ac9"
      },
      "execution_count": 23,
      "outputs": [
        {
          "output_type": "stream",
          "name": "stderr",
          "text": [
            "/usr/local/lib/python3.8/dist-packages/sklearn/linear_model/_logistic.py:814: ConvergenceWarning: lbfgs failed to converge (status=1):\n",
            "STOP: TOTAL NO. of ITERATIONS REACHED LIMIT.\n",
            "\n",
            "Increase the number of iterations (max_iter) or scale the data as shown in:\n",
            "    https://scikit-learn.org/stable/modules/preprocessing.html\n",
            "Please also refer to the documentation for alternative solver options:\n",
            "    https://scikit-learn.org/stable/modules/linear_model.html#logistic-regression\n",
            "  n_iter_i = _check_optimize_result(\n"
          ]
        },
        {
          "output_type": "execute_result",
          "data": {
            "text/plain": [
              "LogisticRegression()"
            ]
          },
          "metadata": {},
          "execution_count": 23
        }
      ]
    },
    {
      "cell_type": "code",
      "source": [
        "model.predict(X_test)"
      ],
      "metadata": {
        "colab": {
          "base_uri": "https://localhost:8080/"
        },
        "id": "2HtKCfO1UzCm",
        "outputId": "b84df527-831e-4b7c-a1e6-a762c18cb37f"
      },
      "execution_count": 39,
      "outputs": [
        {
          "output_type": "execute_result",
          "data": {
            "text/plain": [
              "array([8, 9, 9, 2, 1, 1, 5, 6, 6, 1, 4, 1, 0, 1, 9, 3, 6, 8, 8, 0, 1, 2,\n",
              "       1, 7, 7, 6, 7, 2, 9, 1, 9, 3, 9, 2, 1, 5, 2, 0, 0, 6, 8, 1, 5, 6,\n",
              "       5, 6, 1, 5, 7, 1, 4, 0, 5, 1, 8, 2, 5, 5, 0, 4, 2, 1, 0, 1, 7, 7,\n",
              "       0, 2, 3, 5, 6, 6, 6, 1, 6, 8, 1, 1, 7, 8, 8, 1, 0, 1, 7, 3, 9, 6,\n",
              "       7, 3, 5, 0, 6, 6, 9, 3, 2, 6, 8, 7, 8, 4, 4, 6, 2, 0, 1, 9, 2, 0,\n",
              "       1, 5, 2, 1, 1, 4, 5, 2, 2, 6, 4, 1, 5, 2, 8, 6, 2, 5, 3, 4, 1, 4,\n",
              "       9, 1, 1, 2, 4, 7, 8, 0, 0, 0, 5, 4, 3, 8, 3, 2, 7, 8, 3, 9, 6, 5,\n",
              "       3, 4, 2, 6, 2, 7, 1, 3, 7, 9, 4, 2, 3, 6, 4, 0, 6, 9, 0, 0, 2, 1,\n",
              "       4, 3, 1, 4, 1, 9, 4, 1, 8, 7, 9, 7, 7, 1, 5, 7, 5, 4, 8, 6, 2, 4,\n",
              "       3, 5, 0, 7, 8, 6, 7, 6, 8, 1, 2, 6, 6, 1, 8, 6, 6, 2, 7, 1, 0, 6,\n",
              "       0, 5, 0, 5, 7, 4, 9, 9, 0, 8, 4, 5, 7, 7, 9, 1, 6, 3, 9, 5, 5, 3,\n",
              "       1, 1, 9, 0, 1, 4, 7, 7, 7, 9, 4, 7, 1, 4, 7, 0, 3, 2, 7, 1, 8, 7,\n",
              "       3, 7, 3, 0, 7, 5, 5, 3, 9, 6, 8, 7, 3, 1, 9, 6, 8, 6, 5, 3, 9, 9,\n",
              "       2, 1, 6, 7, 0, 9, 7, 1, 5, 0, 8, 1, 4, 9, 8, 1, 5, 8, 6, 2, 8, 5,\n",
              "       6, 8, 2, 7, 6, 9, 2, 0, 7, 7, 1, 0, 6, 9, 9, 7, 5, 2, 9, 1, 8, 4,\n",
              "       3, 1, 1, 4, 6, 3, 3, 3, 8, 2, 2, 9, 6, 8, 5, 3, 0, 1, 9, 7, 2, 9,\n",
              "       6, 9, 0, 7, 8, 4, 6, 8])"
            ]
          },
          "metadata": {},
          "execution_count": 39
        }
      ]
    },
    {
      "cell_type": "code",
      "source": [
        "y_test"
      ],
      "metadata": {
        "colab": {
          "base_uri": "https://localhost:8080/"
        },
        "id": "C_x28t21VOa5",
        "outputId": "30c147e3-b4e8-4e98-d197-4d56013ae9b8"
      },
      "execution_count": 40,
      "outputs": [
        {
          "output_type": "execute_result",
          "data": {
            "text/plain": [
              "array([8, 9, 9, 2, 1, 1, 5, 6, 6, 1, 4, 1, 0, 1, 9, 3, 6, 8, 8, 0, 1, 2,\n",
              "       1, 7, 7, 6, 7, 2, 9, 1, 9, 3, 9, 2, 1, 5, 2, 0, 0, 6, 8, 1, 5, 6,\n",
              "       5, 6, 1, 5, 7, 1, 4, 0, 5, 1, 8, 2, 5, 5, 0, 4, 2, 1, 0, 1, 7, 7,\n",
              "       0, 2, 3, 5, 6, 6, 6, 4, 6, 8, 1, 1, 7, 8, 8, 1, 0, 1, 7, 3, 9, 6,\n",
              "       7, 3, 5, 0, 6, 6, 9, 3, 2, 6, 8, 7, 8, 4, 4, 6, 2, 0, 1, 9, 2, 0,\n",
              "       1, 5, 2, 1, 1, 4, 5, 2, 2, 6, 1, 1, 5, 2, 8, 6, 2, 5, 3, 9, 1, 4,\n",
              "       9, 1, 1, 2, 4, 7, 8, 0, 0, 0, 5, 4, 3, 8, 3, 2, 7, 8, 3, 9, 6, 5,\n",
              "       3, 4, 2, 6, 2, 7, 1, 3, 7, 9, 4, 2, 3, 6, 4, 0, 6, 9, 0, 0, 2, 1,\n",
              "       4, 3, 1, 4, 1, 9, 4, 1, 8, 7, 5, 7, 7, 1, 5, 7, 5, 4, 8, 6, 2, 4,\n",
              "       3, 5, 0, 7, 8, 6, 7, 6, 8, 1, 2, 6, 6, 1, 8, 6, 6, 2, 7, 1, 0, 6,\n",
              "       0, 5, 0, 5, 7, 4, 9, 9, 0, 8, 8, 5, 7, 7, 9, 1, 6, 3, 9, 5, 5, 3,\n",
              "       1, 1, 9, 0, 1, 4, 7, 7, 7, 9, 4, 7, 1, 4, 7, 0, 3, 2, 7, 1, 8, 7,\n",
              "       3, 7, 3, 0, 7, 5, 5, 3, 9, 6, 8, 7, 3, 1, 9, 6, 8, 6, 5, 3, 9, 9,\n",
              "       2, 4, 1, 7, 0, 9, 7, 1, 5, 0, 8, 1, 4, 9, 8, 1, 5, 8, 6, 2, 8, 5,\n",
              "       6, 8, 2, 7, 6, 9, 2, 0, 7, 7, 1, 0, 6, 8, 9, 7, 5, 2, 9, 1, 8, 4,\n",
              "       3, 1, 1, 4, 6, 3, 3, 3, 8, 2, 2, 9, 6, 8, 5, 1, 0, 1, 9, 7, 2, 9,\n",
              "       6, 9, 0, 7, 8, 4, 6, 8])"
            ]
          },
          "metadata": {},
          "execution_count": 40
        }
      ]
    },
    {
      "cell_type": "markdown",
      "source": [
        "*****Measure accuracy of our model*****"
      ],
      "metadata": {
        "id": "vLDozY4SS3C8"
      }
    },
    {
      "cell_type": "code",
      "source": [
        "model.score(X_test, y_test)"
      ],
      "metadata": {
        "colab": {
          "base_uri": "https://localhost:8080/"
        },
        "id": "TVQp5IY3S5KH",
        "outputId": "9eef475a-f2a3-45d9-ee2e-9db66190db40"
      },
      "execution_count": 24,
      "outputs": [
        {
          "output_type": "execute_result",
          "data": {
            "text/plain": [
              "0.975"
            ]
          },
          "metadata": {},
          "execution_count": 24
        }
      ]
    },
    {
      "cell_type": "code",
      "source": [
        "model.predict(digits.data[0:5])"
      ],
      "metadata": {
        "colab": {
          "base_uri": "https://localhost:8080/"
        },
        "id": "ioudHjiuSxIX",
        "outputId": "33adc069-301d-46d1-d5ec-77cfad3b1f60"
      },
      "execution_count": 25,
      "outputs": [
        {
          "output_type": "execute_result",
          "data": {
            "text/plain": [
              "array([0, 1, 2, 3, 4])"
            ]
          },
          "metadata": {},
          "execution_count": 25
        }
      ]
    },
    {
      "cell_type": "markdown",
      "source": [
        "**Confusion Matrix**"
      ],
      "metadata": {
        "id": "Xhr4-2XgTAi9"
      }
    },
    {
      "cell_type": "code",
      "source": [
        "y_predicted = model.predict(X_test)"
      ],
      "metadata": {
        "id": "YxGHrTrDTFzk"
      },
      "execution_count": 26,
      "outputs": []
    },
    {
      "cell_type": "code",
      "source": [
        "from sklearn.metrics import confusion_matrix\n",
        "cm = confusion_matrix(y_test, y_predicted)\n",
        "cm"
      ],
      "metadata": {
        "colab": {
          "base_uri": "https://localhost:8080/"
        },
        "id": "qrPpdg4TTIa7",
        "outputId": "c2e3fde7-3c85-43f8-aeb9-5e19089f01bd"
      },
      "execution_count": 32,
      "outputs": [
        {
          "output_type": "execute_result",
          "data": {
            "text/plain": [
              "array([[32,  0,  0,  0,  0,  0,  0,  0,  0,  0],\n",
              "       [ 0, 51,  0,  1,  1,  0,  1,  0,  0,  0],\n",
              "       [ 0,  0, 34,  0,  0,  0,  0,  0,  0,  0],\n",
              "       [ 0,  0,  0, 27,  0,  0,  0,  0,  0,  0],\n",
              "       [ 0,  2,  0,  0, 25,  0,  0,  0,  0,  0],\n",
              "       [ 0,  0,  0,  0,  0, 32,  0,  0,  0,  1],\n",
              "       [ 0,  0,  0,  0,  0,  0, 42,  0,  0,  0],\n",
              "       [ 0,  0,  0,  0,  0,  0,  0, 42,  0,  0],\n",
              "       [ 0,  0,  0,  0,  1,  0,  0,  0, 33,  1],\n",
              "       [ 0,  0,  0,  0,  1,  0,  0,  0,  0, 33]])"
            ]
          },
          "metadata": {},
          "execution_count": 32
        }
      ]
    },
    {
      "cell_type": "code",
      "source": [
        "import seaborn as sn\n",
        "plt.figure(figsize = (10,7))\n",
        "sn.heatmap(cm, annot=True)\n",
        "plt.xlabel('Predicted')\n",
        "plt.ylabel('Truth')"
      ],
      "metadata": {
        "colab": {
          "base_uri": "https://localhost:8080/",
          "height": 459
        },
        "id": "b0r-bw__TN9G",
        "outputId": "3b43c9f6-83a3-4f2a-cc2f-b23f68936ec9"
      },
      "execution_count": 33,
      "outputs": [
        {
          "output_type": "execute_result",
          "data": {
            "text/plain": [
              "Text(69.0, 0.5, 'Truth')"
            ]
          },
          "metadata": {},
          "execution_count": 33
        },
        {
          "output_type": "display_data",
          "data": {
            "text/plain": [
              "<Figure size 720x504 with 2 Axes>"
            ],
            "image/png": "[encoded data removed]"
          },
          "metadata": {
            "needs_background": "light"
          }
        }
      ]
    }
  ]
}